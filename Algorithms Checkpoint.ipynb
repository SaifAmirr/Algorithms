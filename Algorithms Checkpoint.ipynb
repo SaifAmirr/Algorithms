{
 "cells": [
  {
   "cell_type": "code",
   "execution_count": 2,
   "id": "7424f0a1",
   "metadata": {},
   "outputs": [
    {
     "data": {
      "text/plain": [
       "True"
      ]
     },
     "execution_count": 2,
     "metadata": {},
     "output_type": "execute_result"
    }
   ],
   "source": [
    "#Question 1 \n",
    "def BinarySearch(sequence, item, start, end):\n",
    "    if start <= end:\n",
    "        midpoint = (start+end)//2\n",
    "        midpoint_value = sequence[midpoint]\n",
    "        if midpoint_value == item:\n",
    "            return True\n",
    "        elif midpoint_value < item:\n",
    "            end_index = midpoint - 1\n",
    "            return BinarySearch(sequence, item, start, end_index)\n",
    "        else:\n",
    "            begin_index = midpoint + 1 \n",
    "            return BinarySearch(sequence, item,begin_index , end)\n",
    "    else:\n",
    "        return False\n",
    "sequence = [1,2,5,3,8] \n",
    "BinarySearch(sequence, 5,0,len(sequence)-1)\n",
    "\n",
    "\n",
    "\n",
    "            \n",
    "    "
   ]
  },
  {
   "cell_type": "code",
   "execution_count": 4,
   "id": "a81553de",
   "metadata": {},
   "outputs": [
    {
     "data": {
      "text/plain": [
       "1024"
      ]
     },
     "execution_count": 4,
     "metadata": {},
     "output_type": "execute_result"
    }
   ],
   "source": [
    "#Question 2\n",
    "def powerFunction(a,b):\n",
    "    return a**b\n",
    "a=4\n",
    "b=5\n",
    "powerFunction(4,5)"
   ]
  },
  {
   "cell_type": "code",
   "execution_count": 6,
   "id": "302b4809",
   "metadata": {},
   "outputs": [
    {
     "data": {
      "text/plain": [
       "[13, 22, 29, 37, 46, 49, 52, 71, 56]"
      ]
     },
     "execution_count": 6,
     "metadata": {},
     "output_type": "execute_result"
    }
   ],
   "source": [
    "#Question 3 \n",
    "def bubblesorting(nlist):\n",
    "    for passnum in range (0, len(nlist)-1):\n",
    "        for i in range(passnum):\n",
    "            if nlist[i] > nlist[i+1]:\n",
    "                temp = nlist[i]\n",
    "                nlist[i] = nlist[i+1]\n",
    "                nlist[i+1] = temp\n",
    "    return nlist \n",
    "nlist = [29,13,22,37,52,49,46,71,56]\n",
    "bubblesorting(nlist)"
   ]
  },
  {
   "cell_type": "code",
   "execution_count": 11,
   "id": "c32a8f07",
   "metadata": {},
   "outputs": [
    {
     "name": "stdout",
     "output_type": "stream",
     "text": [
      "[13, 22, 29, 37, 46, 49, 52, 56, 71]\n"
     ]
    }
   ],
   "source": [
    "#Question 4 \n",
    "def mergesort(nlist):\n",
    "    if len(nlist) > 1:\n",
    "        midpoint = len(nlist)//2\n",
    "        left = nlist[:midpoint]\n",
    "        right = nlist[midpoint:]\n",
    "        \n",
    "        mergesort(left)\n",
    "        mergesort(right)\n",
    "        \n",
    "        i=0\n",
    "        j=0\n",
    "        k=0\n",
    "        \n",
    "        while i <len(left) and j<len(right):\n",
    "            if left[i] < right[j]:\n",
    "                nlist[k] = left[i]\n",
    "                i += 1\n",
    "            else:\n",
    "                nlist[k] = right[j]\n",
    "                j += 1\n",
    "                \n",
    "            k+=1\n",
    "            \n",
    "        while i<len(left):\n",
    "            nlist[k] = left[i]\n",
    "            i += 1\n",
    "            k += 1\n",
    "            \n",
    "        while j <len(right):\n",
    "            nlist[k] = right[j]\n",
    "            j += 1\n",
    "            k += 1 \n",
    "            \n",
    "            \n",
    "nlist = [29,13,22,37,52,49,46,71,56]  \n",
    "mergesort(nlist)\n",
    "print(nlist)\n",
    "            \n",
    "            "
   ]
  },
  {
   "cell_type": "code",
   "execution_count": 20,
   "id": "00ebae42",
   "metadata": {},
   "outputs": [
    {
     "name": "stdout",
     "output_type": "stream",
     "text": [
      "[13, 22, 29, 37, 46, 49, 52, 56, 71]\n"
     ]
    }
   ],
   "source": [
    "#Question 5 \n",
    "def partition(array, start, end):\n",
    "    \n",
    "    pivot = array[start]\n",
    "    low = start + 1\n",
    "    high = end \n",
    "    \n",
    "    while True:\n",
    "        while low<=high and array[high] >= pivot:\n",
    "            high = high -1 \n",
    "            \n",
    "        while low<=high and array[low] <= pivot:\n",
    "            low = low + 1\n",
    "            \n",
    "        if low <=high:\n",
    "            array[low], array[high] = array[high], array[low]\n",
    "            \n",
    "        else:\n",
    "            break\n",
    "            \n",
    "    array[start], array[high] = array[high], array[start]\n",
    "    return high \n",
    "def quicksort(array, start, end):\n",
    "    if len(array) == 1:\n",
    "        return array\n",
    "    if start < end:\n",
    "        p = partition(array, start, end)\n",
    "        quicksort(array, start, p-1)\n",
    "        quicksort(array, p+1, end)\n",
    "\n",
    "    \n",
    "    \n",
    "array = [29,13,22,37,52,49,46,71,56]    \n",
    "quicksort(array, 0, len(array)-1)\n",
    "print(array)\n",
    "            \n",
    "            \n",
    "\n"
   ]
  }
 ],
 "metadata": {
  "kernelspec": {
   "display_name": "Python 3 (ipykernel)",
   "language": "python",
   "name": "python3"
  },
  "language_info": {
   "codemirror_mode": {
    "name": "ipython",
    "version": 3
   },
   "file_extension": ".py",
   "mimetype": "text/x-python",
   "name": "python",
   "nbconvert_exporter": "python",
   "pygments_lexer": "ipython3",
   "version": "3.9.7"
  }
 },
 "nbformat": 4,
 "nbformat_minor": 5
}
